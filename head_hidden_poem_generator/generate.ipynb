{
 "cells": [
  {
   "cell_type": "code",
   "execution_count": 1,
   "metadata": {},
   "outputs": [],
   "source": [
    "import torch\n",
    "from torch import nn\n",
    "import numpy as np\n",
    "from lgg_model import *\n",
    "from gensim.models import Word2Vec\n",
    "\n",
    "device=torch.device(\"cuda:0\" if torch.cuda.is_available() else \"cpu\")"
   ]
  },
  {
   "cell_type": "code",
   "execution_count": 2,
   "metadata": {},
   "outputs": [
    {
     "data": {
      "text/plain": [
       "device(type='cpu')"
      ]
     },
     "execution_count": 2,
     "metadata": {},
     "output_type": "execute_result"
    }
   ],
   "source": [
    "device"
   ]
  },
  {
   "cell_type": "code",
   "execution_count": 3,
   "metadata": {},
   "outputs": [],
   "source": [
    "word_model_path = input(\"请使用想使用的词汇库(无需添加后缀)：\")\n",
    "word_model_path = 'word_model_paths/' + word_model_path\n",
    "word_model = Word2Vec.load(word_model_path)\n",
    "wv = word_model.wv"
   ]
  },
  {
   "cell_type": "code",
   "execution_count": 4,
   "metadata": {},
   "outputs": [
    {
     "data": {
      "text/plain": [
       "vanilla_GRU(\n",
       "  (Embedding): Embedding(2045, 50)\n",
       "  (GRU): GRU(50, 100, num_layers=2, batch_first=True, dropout=0.5)\n",
       "  (Linear): Linear(in_features=100, out_features=2045, bias=True)\n",
       ")"
      ]
     },
     "execution_count": 4,
     "metadata": {},
     "output_type": "execute_result"
    }
   ],
   "source": [
    "lgg_model_path = input(\"请输入想使用的语言模型(无需添加后缀)：\")\n",
    "lgg_model_path = 'lgg_model_paths/' + lgg_model_path\n",
    "lgg_model = torch.load(lgg_model_path)\n",
    "lgg_model.eval()"
   ]
  },
  {
   "cell_type": "code",
   "execution_count": 12,
   "metadata": {},
   "outputs": [],
   "source": [
    "\"\"\"caution: this block is for testing for cangtou poem\"\"\"\n",
    "\n",
    "punc = ['，','。','？','！','；','【','】', '）', '（', ' ', '\\n', '1', '2', '3', '4', '5', '6', '7', '8', '9', '0']\n",
    "\n",
    "del_lst = []\n",
    "head = input(\"请输入“头”：\")\n",
    "head = head + '。'\n",
    "lst = list(head) # default to be 4 Chinese characters"
   ]
  },
  {
   "cell_type": "code",
   "execution_count": 13,
   "metadata": {},
   "outputs": [
    {
     "name": "stdout",
     "output_type": "stream",
     "text": [
      "北京大学清华大学\n",
      "北 83\n",
      "京 312\n",
      "大 231\n",
      "学 590\n",
      "清 88\n",
      "华 169\n",
      "大 231\n",
      "学 590\n"
     ]
    }
   ],
   "source": [
    "# test if all the characters are in the corpus\n",
    "print(head[:-1])\n",
    "for i in head[:-1]:\n",
    "    print(i, wv.key_to_index[i])"
   ]
  },
  {
   "cell_type": "code",
   "execution_count": 14,
   "metadata": {},
   "outputs": [
    {
     "name": "stdout",
     "output_type": "stream",
     "text": [
      "输入： 北京大学清华大学\n",
      "输出：\n",
      "北枝林粉红，京师春辉照。大条风备乐，学府九如伤。\n",
      "清泠其千子，华浦荷晓寒。大运馀胜侣，学府玉壶妆。\n"
     ]
    }
   ],
   "source": [
    "# words = input(\"请输入初始文本：\")\n",
    "# del_lst = []\n",
    "# lst = list(words)\n",
    "\n",
    "for i in lst:\n",
    "    if i not in wv.key_to_index:\n",
    "        del_lst.append(i)\n",
    "for i in del_lst:\n",
    "    lst.remove(i)\n",
    "\n",
    "data = np.array([])\n",
    "# for i in lst:\n",
    "#     data = np.append(data, wv.key_to_index[i])\n",
    "\n",
    "count = (len(head)-1) * 5\n",
    "# count = int(input(\"请输入想要生成的字数：\"))\n",
    "# while count % 5 != 0:\n",
    "#     count = int(input(\"请重新输入：\"))\n",
    "\n",
    "print(\"输入：\", head[:-1])\n",
    "print(\"输出：\")\n",
    "\n",
    "# for i in lst:\n",
    "#     print(i, end='')\n",
    "idx = wv.key_to_index[lst[0]]\n",
    "\n",
    "i = 0\n",
    "\n",
    "while i < count:\n",
    "    i += 1\n",
    "    new_word = wv.index_to_key[idx]\n",
    "    print(new_word, end='')\n",
    "\n",
    "    # lst.append(new_word)\n",
    "    data = np.append(data, idx)\n",
    "    data = np.stack((data,))\n",
    "\n",
    "    x = torch.Tensor(data)\n",
    "    x = x.to(torch.long)\n",
    "    y = lgg_model(x)[0][-1]\n",
    "    p = y.detach().numpy()\n",
    "    p = softmax(p)\n",
    "\n",
    "    idx = np.random.choice(np.arange(len(wv)), p=p)\n",
    "    \n",
    "    if (i % 5 != 0):\n",
    "        while wv.index_to_key[idx] in punc:\n",
    "            idx = np.random.choice(np.arange(len(wv)), p=p)\n",
    "\n",
    "    if i % 5 == 0 and i != 0: # default for 5 characters in a sentence\n",
    "        if i % 10 == 0:\n",
    "            idx = wv.key_to_index['。']\n",
    "\n",
    "        else:\n",
    "            idx = wv.key_to_index['，']\n",
    "\n",
    "        data = np.append(data, idx)\n",
    "        data = np.stack((data,))\n",
    "\n",
    "        new_word = wv.index_to_key[idx]\n",
    "        print(new_word, end='')\n",
    "\n",
    "        if i % 10 == 0:\n",
    "            print()\n",
    "\n",
    "        head_idx = i // 5\n",
    "        head_word = head[head_idx]\n",
    "        idx = wv.key_to_index[head_word]\n",
    "\n",
    "    # new_word = wv.index_to_key[idx]\n",
    "    # print(new_word, end='')\n",
    "\n",
    "    # lst.append(new_word)\n",
    "    # data = np.append(data, idx)\n",
    "\n",
    "# print('\\nGeneration finished.')\n",
    "\n"
   ]
  },
  {
   "cell_type": "code",
   "execution_count": 1,
   "metadata": {},
   "outputs": [
    {
     "name": "stdout",
     "output_type": "stream",
     "text": [
      "输入： 秋风萧瑟\n",
      "输出：\n",
      "秋登白月来，风劲浅残香。\n",
      "萧条深微续，瑟事尚兽虚。\n"
     ]
    }
   ],
   "source": [
    "%run generator.py"
   ]
  }
 ],
 "metadata": {
  "interpreter": {
   "hash": "aee8b7b246df8f9039afb4144a1f6fd8d2ca17a180786b69acc140d282b71a49"
  },
  "kernelspec": {
   "display_name": "Python 3.9.6 64-bit",
   "language": "python",
   "name": "python3"
  },
  "language_info": {
   "codemirror_mode": {
    "name": "ipython",
    "version": 3
   },
   "file_extension": ".py",
   "mimetype": "text/x-python",
   "name": "python",
   "nbconvert_exporter": "python",
   "pygments_lexer": "ipython3",
   "version": "3.9.6"
  },
  "orig_nbformat": 4
 },
 "nbformat": 4,
 "nbformat_minor": 2
}
